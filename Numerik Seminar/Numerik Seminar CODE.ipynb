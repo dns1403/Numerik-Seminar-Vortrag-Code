{
 "cells": [
  {
   "cell_type": "markdown",
   "metadata": {},
   "source": [
    "# Klassifikation \n",
    "\n",
    "Bei dieser Art von Problemen geht es darum Daten möglichst gut zu klassifizieren.\n",
    "\n",
    "Beispielsweise bei einem Fisch zu unterscheiden, ob dieser eine Salmon oder eine Tuna ist."
   ]
  },
  {
   "cell_type": "markdown",
   "metadata": {},
   "source": [
    "## Baysian Decision Rule "
   ]
  },
  {
   "cell_type": "code",
   "execution_count": null,
   "metadata": {},
   "outputs": [],
   "source": []
  }
 ],
 "metadata": {
  "kernelspec": {
   "display_name": "Python 3",
   "language": "python",
   "name": "python3"
  },
  "language_info": {
   "name": "python",
   "version": "3.12.3"
  }
 },
 "nbformat": 4,
 "nbformat_minor": 2
}
