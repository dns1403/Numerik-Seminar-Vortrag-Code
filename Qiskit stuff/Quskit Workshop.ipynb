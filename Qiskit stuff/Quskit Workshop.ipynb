{
 "cells": [
  {
   "cell_type": "code",
   "execution_count": 66,
   "metadata": {},
   "outputs": [],
   "source": [
    "from numpy import * \n",
    "from qiskit import *"
   ]
  },
  {
   "cell_type": "code",
   "execution_count": 67,
   "metadata": {},
   "outputs": [
    {
     "name": "stdout",
     "output_type": "stream",
     "text": [
      "     ┌───┐     ┌─┐   \n",
      "q_0: ┤ H ├──■──┤M├───\n",
      "     └───┘┌─┴─┐└╥┘┌─┐\n",
      "q_1: ─────┤ X ├─╫─┤M├\n",
      "          └───┘ ║ └╥┘\n",
      "c: 2/═══════════╩══╩═\n",
      "                0  1 \n"
     ]
    }
   ],
   "source": [
    "#Create a quantum circuit with 2 qubits\n",
    "qr = QuantumRegister(2, 'q')\n",
    "cr = ClassicalRegister(2, 'c')\n",
    "qc = QuantumCircuit(qr, cr)\n",
    "#Add a Hadamard gate on qubit 0\n",
    "qc.h(0)\n",
    "#Add a CNOT gate \n",
    "qc.cx(0,1)\n",
    "\n",
    "#Measure the qbits\n",
    "qc.measure([0,1], [0,1])\n",
    "\n",
    "# Draw the circuit\n",
    "\n",
    "print(qc)"
   ]
  },
  {
   "cell_type": "code",
   "execution_count": 68,
   "metadata": {},
   "outputs": [],
   "source": [
    "#SETUP THE BACKEND AND TRANSPILER\n",
    "#Importing the simulator\n",
    "from qiskit_aer import QasmSimulator\n"
   ]
  },
  {
   "cell_type": "code",
   "execution_count": 69,
   "metadata": {},
   "outputs": [],
   "source": [
    "backend = QasmSimulator()\n",
    "\n",
    "#Importing the translator\n",
    "from qiskit import transpile\n",
    "#Compile the circuit so that the backend understands \n",
    "qc_bin = transpile(qc, backend=backend)\n",
    "\n",
    "#Execution\n",
    "#Execute the circuit on the qasm simulator\n",
    "qc_job = backend.run(qc_bin, shots=10000)"
   ]
  },
  {
   "cell_type": "code",
   "execution_count": 70,
   "metadata": {},
   "outputs": [
    {
     "name": "stdout",
     "output_type": "stream",
     "text": [
      "JobStatus.DONE\n"
     ]
    }
   ],
   "source": [
    "from qiskit.providers.jobstatus import JobStatus\n",
    "print(qc_job.status())"
   ]
  },
  {
   "cell_type": "code",
   "execution_count": 71,
   "metadata": {},
   "outputs": [
    {
     "data": {
      "image/png": "[encoded data removed]",
      "text/plain": [
       "<Figure size 640x480 with 1 Axes>"
      ]
     },
     "execution_count": 71,
     "metadata": {},
     "output_type": "execute_result"
    }
   ],
   "source": [
    "#Grab results from the job\n",
    "qc_result = qc_job.result()\n",
    "#LOADING AND VISUALIZING THE RESULTS\n",
    "from qiskit.visualization import plot_histogram\n",
    "#Plot the results\n",
    "qc_counts = qc_result.get_counts(qc_bin)\n",
    "plot_histogram(qc_counts)"
   ]
  },
  {
   "cell_type": "markdown",
   "metadata": {},
   "source": [
    "Deutsch Algo"
   ]
  },
  {
   "cell_type": "code",
   "execution_count": 72,
   "metadata": {},
   "outputs": [
    {
     "name": "stdout",
     "output_type": "stream",
     "text": [
      "                    \n",
      "q_0: ──■────────────\n",
      "       │            \n",
      "q_1: ──┼────■───────\n",
      "       │    │       \n",
      "q_2: ──┼────┼────■──\n",
      "     ┌─┴─┐┌─┴─┐┌─┴─┐\n",
      "q_3: ┤ X ├┤ X ├┤ X ├\n",
      "     └───┘└───┘└───┘\n",
      "c: 2/═══════════════\n",
      "                    \n"
     ]
    }
   ],
   "source": [
    "qr = QuantumRegister(4, 'q')\n",
    "qc = QuantumCircuit(qr, cr)\n",
    "qc.cx(0,3)\n",
    "qc.cx(1,3)\n",
    "qc.cx(2,3)\n",
    "print(qc)"
   ]
  },
  {
   "cell_type": "code",
   "execution_count": 73,
   "metadata": {},
   "outputs": [],
   "source": [
    "from numpy import * \n",
    "from random import randint\n",
    "from qiskit import *\n",
    "from qiskit.providers.jobstatus import JobStatus \n",
    "from qiskit.visualization import plot_histogram\n",
    "from qiskit_aer import QasmSimulator\n",
    "\n",
    "backend = QasmSimulator()\n",
    "\n"
   ]
  },
  {
   "cell_type": "code",
   "execution_count": 74,
   "metadata": {},
   "outputs": [],
   "source": [
    "def DeutschJosza(n, oracle):\n",
    "    qr = QuantumRegister(n+1, name = 'q')\n",
    "    cr = ClassicalRegister(n, name = 'c')\n",
    "    qc = QuantumCircuit(qr, cr)\n",
    "    qc.x(n)\n",
    "    qc.h(n)\n",
    "    qc.h(range(n))\n",
    "    qc.append(oracle, range(n+1))\n",
    "    qc.h(range(n))\n",
    "    qc.measure(range(n), range(n))\n",
    "    print(qc)"
   ]
  },
  {
   "cell_type": "code",
   "execution_count": 75,
   "metadata": {},
   "outputs": [],
   "source": [
    "def constant_oracle(n):\n",
    "    qc = QuantumCircuit(n+1, name = 'oracle')\n",
    "    print(\"The oracle: \\n\")\n",
    "    print(qc)\n",
    "    return qc.to_instruction()"
   ]
  },
  {
   "cell_type": "code",
   "execution_count": 76,
   "metadata": {},
   "outputs": [],
   "source": [
    "def balanced_oracle(n):\n",
    "    qc = QuantumCircuit(n+1, name = 'oracle')\n",
    "    b = randint(0, 2**n-1)\n",
    "    for i in range(n):\n",
    "        qc.cx(i, n)\n",
    "    print(\"The oracle: \\n\")\n",
    "    print(qc)\n",
    "    return qc.to_instruction()  "
   ]
  },
  {
   "cell_type": "code",
   "execution_count": 77,
   "metadata": {},
   "outputs": [
    {
     "name": "stdout",
     "output_type": "stream",
     "text": [
      "The oracle: \n",
      "\n",
      "     \n",
      "q_0: \n",
      "     \n",
      "q_1: \n",
      "     \n",
      "q_2: \n",
      "     \n",
      "q_3: \n",
      "     \n",
      "     ┌───┐     ┌─────────┐┌───┐┌─┐      \n",
      "q_0: ┤ H ├─────┤0        ├┤ H ├┤M├──────\n",
      "     ├───┤     │         │├───┤└╥┘┌─┐   \n",
      "q_1: ┤ H ├─────┤1        ├┤ H ├─╫─┤M├───\n",
      "     ├───┤     │  oracle │├───┤ ║ └╥┘┌─┐\n",
      "q_2: ┤ H ├─────┤2        ├┤ H ├─╫──╫─┤M├\n",
      "     ├───┤┌───┐│         │└───┘ ║  ║ └╥┘\n",
      "q_3: ┤ X ├┤ H ├┤3        ├──────╫──╫──╫─\n",
      "     └───┘└───┘└─────────┘      ║  ║  ║ \n",
      "c: 3/═══════════════════════════╩══╩══╩═\n",
      "                                0  1  2 \n"
     ]
    }
   ],
   "source": [
    "DeutschJosza(3, constant_oracle(3))"
   ]
  },
  {
   "cell_type": "code",
   "execution_count": 78,
   "metadata": {},
   "outputs": [
    {
     "name": "stdout",
     "output_type": "stream",
     "text": [
      "The oracle: \n",
      "\n"
     ]
    },
    {
     "name": "stdout",
     "output_type": "stream",
     "text": [
      "     \n",
      "q_0: \n",
      "     \n",
      "q_1: \n",
      "     \n",
      "q_2: \n",
      "     \n",
      "q_3: \n",
      "     \n",
      "     ┌───┐     ┌─────────┐┌───┐┌─┐      \n",
      "q_0: ┤ H ├─────┤0        ├┤ H ├┤M├──────\n",
      "     ├───┤     │         │├───┤└╥┘┌─┐   \n",
      "q_1: ┤ H ├─────┤1        ├┤ H ├─╫─┤M├───\n",
      "     ├───┤     │  oracle │├───┤ ║ └╥┘┌─┐\n",
      "q_2: ┤ H ├─────┤2        ├┤ H ├─╫──╫─┤M├\n",
      "     ├───┤┌───┐│         │└───┘ ║  ║ └╥┘\n",
      "q_3: ┤ X ├┤ H ├┤3        ├──────╫──╫──╫─\n",
      "     └───┘└───┘└─────────┘      ║  ║  ║ \n",
      "c: 3/═══════════════════════════╩══╩══╩═\n",
      "                                0  1  2 \n",
      "The Deursch-Josza circuit: \n",
      "\n",
      "None\n"
     ]
    },
    {
     "ename": "AttributeError",
     "evalue": "'NoneType' object has no attribute 'name'",
     "output_type": "error",
     "traceback": [
      "\u001b[1;31m---------------------------------------------------------------------------\u001b[0m",
      "\u001b[1;31mAttributeError\u001b[0m                            Traceback (most recent call last)",
      "Cell \u001b[1;32mIn[78], line 13\u001b[0m\n\u001b[0;32m     11\u001b[0m \u001b[38;5;28mprint\u001b[39m(qc)\n\u001b[0;32m     12\u001b[0m \u001b[38;5;66;03m#Run \u001b[39;00m\n\u001b[1;32m---> 13\u001b[0m qc_bin \u001b[38;5;241m=\u001b[39m \u001b[43mtranspile\u001b[49m\u001b[43m(\u001b[49m\u001b[43mqc\u001b[49m\u001b[43m,\u001b[49m\u001b[43m \u001b[49m\u001b[43mbackend\u001b[49m\u001b[38;5;241;43m=\u001b[39;49m\u001b[43mbackend\u001b[49m\u001b[43m)\u001b[49m\n\u001b[0;32m     14\u001b[0m qc_job \u001b[38;5;241m=\u001b[39m backend\u001b[38;5;241m.\u001b[39mrun(qc_bin, shots\u001b[38;5;241m=\u001b[39m\u001b[38;5;241m10000\u001b[39m)\n\u001b[0;32m     15\u001b[0m qc_result \u001b[38;5;241m=\u001b[39m qc_job\u001b[38;5;241m.\u001b[39mresult()\n",
      "File \u001b[1;32m~\\AppData\\Local\\Packages\\PythonSoftwareFoundation.Python.3.12_qbz5n2kfra8p0\\LocalCache\\local-packages\\Python312\\site-packages\\qiskit\\compiler\\transpiler.py:376\u001b[0m, in \u001b[0;36mtranspile\u001b[1;34m(circuits, backend, basis_gates, inst_map, coupling_map, backend_properties, initial_layout, layout_method, routing_method, translation_method, scheduling_method, instruction_durations, dt, approximation_degree, timing_constraints, seed_transpiler, optimization_level, callback, output_name, unitary_synthesis_method, unitary_synthesis_plugin_config, target, hls_config, init_method, optimization_method, ignore_backend_supplied_default_methods, num_processes)\u001b[0m\n\u001b[0;32m    373\u001b[0m coupling_map \u001b[38;5;241m=\u001b[39m _parse_coupling_map(coupling_map, backend)\n\u001b[0;32m    374\u001b[0m approximation_degree \u001b[38;5;241m=\u001b[39m _parse_approximation_degree(approximation_degree)\n\u001b[1;32m--> 376\u001b[0m output_name \u001b[38;5;241m=\u001b[39m \u001b[43m_parse_output_name\u001b[49m\u001b[43m(\u001b[49m\u001b[43moutput_name\u001b[49m\u001b[43m,\u001b[49m\u001b[43m \u001b[49m\u001b[43mcircuits\u001b[49m\u001b[43m)\u001b[49m\n\u001b[0;32m    377\u001b[0m inst_map \u001b[38;5;241m=\u001b[39m _parse_inst_map(inst_map, backend)\n\u001b[0;32m    379\u001b[0m _check_circuits_coupling_map(circuits, coupling_map, backend)\n",
      "File \u001b[1;32m~\\AppData\\Local\\Packages\\PythonSoftwareFoundation.Python.3.12_qbz5n2kfra8p0\\LocalCache\\local-packages\\Python312\\site-packages\\qiskit\\compiler\\transpiler.py:551\u001b[0m, in \u001b[0;36m_parse_output_name\u001b[1;34m(output_name, circuits)\u001b[0m\n\u001b[0;32m    546\u001b[0m         \u001b[38;5;28;01mraise\u001b[39;00m TranspilerError(\n\u001b[0;32m    547\u001b[0m             \u001b[38;5;124m\"\u001b[39m\u001b[38;5;124mThe parameter output_name should be a string or a\u001b[39m\u001b[38;5;124m\"\u001b[39m\n\u001b[0;32m    548\u001b[0m             \u001b[38;5;124m\"\u001b[39m\u001b[38;5;124mlist of strings: \u001b[39m\u001b[38;5;132;01m%s\u001b[39;00m\u001b[38;5;124m was used.\u001b[39m\u001b[38;5;124m\"\u001b[39m \u001b[38;5;241m%\u001b[39m \u001b[38;5;28mtype\u001b[39m(output_name)\n\u001b[0;32m    549\u001b[0m         )\n\u001b[0;32m    550\u001b[0m \u001b[38;5;28;01melse\u001b[39;00m:\n\u001b[1;32m--> 551\u001b[0m     \u001b[38;5;28;01mreturn\u001b[39;00m [\u001b[43mcircuit\u001b[49m\u001b[38;5;241;43m.\u001b[39;49m\u001b[43mname\u001b[49m \u001b[38;5;28;01mfor\u001b[39;00m circuit \u001b[38;5;129;01min\u001b[39;00m circuits]\n",
      "\u001b[1;31mAttributeError\u001b[0m: 'NoneType' object has no attribute 'name'"
     ]
    }
   ],
   "source": [
    "n = 3\n",
    "#Flipping coin to choose oracle\n",
    "coin=randint(0,1)\n",
    "if coin == 0:\n",
    "    oracle = constant_oracle(n)\n",
    "else:\n",
    "    oracle = balanced_oracle(n)\n",
    "#Constructing the Deutsch-Josza circuit\n",
    "qc = DeutschJosza(n, oracle)\n",
    "print(\"The Deursch-Josza circuit: \\n\") \n",
    "print(qc)\n",
    "#Run \n",
    "qc_bin = transpile(qc, backend=backend)\n",
    "qc_job = backend.run(qc_bin, shots=10000)\n",
    "qc_result = qc_job.result()\n",
    "print(\"Result counts: \")\n",
    "display(qc_job.result().get_counts())\n",
    "if coin == 0:\n",
    "    print(\"The oracle is constant\")\n",
    "else: \n",
    "    print(\"The oracle is balanced\") "
   ]
  },
  {
   "cell_type": "markdown",
   "metadata": {},
   "source": [
    "Grover"
   ]
  },
  {
   "cell_type": "code",
   "execution_count": null,
   "metadata": {},
   "outputs": [],
   "source": []
  }
 ],
 "metadata": {
  "kernelspec": {
   "display_name": "Python 3",
   "language": "python",
   "name": "python3"
  },
  "language_info": {
   "codemirror_mode": {
    "name": "ipython",
    "version": 3
   },
   "file_extension": ".py",
   "mimetype": "text/x-python",
   "name": "python",
   "nbconvert_exporter": "python",
   "pygments_lexer": "ipython3",
   "version": "3.12.3"
  }
 },
 "nbformat": 4,
 "nbformat_minor": 2
}
